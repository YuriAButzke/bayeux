{
  "cells": [
   {
    "cell_type": "code",
    "execution_count": 1,
    "metadata": {
     "id": "LGiXD5Bk5YL_"
    },
    "outputs": [],
    "source": [
     "!pip install -Uq bayeux-ml"
    ]
   },
   {
    "cell_type": "code",
    "execution_count": 1,
    "metadata": {
     "id": "XMTEI6ep4D_S"
    },
    "outputs": [],
    "source": [
     "import arviz as az\n",
     "import bayeux as bx\n",
     "import jax\n",
     "import jax.numpy as jnp\n",
     "import matplotlib.pyplot as plt\n",
     "import numpy as np\n",
     "import tensorflow_probability.substrates.jax as tfp\n",
     "\n",
     "tfd = tfp.distributions"
    ]
   },
   {
    "cell_type": "markdown",
    "metadata": {
     "id": "E4wciun69_Pn"
    },
    "source": [
     "# Using bayeux with TFP-on-JAX\n",
     "\n",
     "[More on TensorFlow Probability here](https://www.tensorflow.org/probability/).\n",
     "\n",
     "We implement a common hierarchical model of the eight schools dataset (Rubin 1981¹), whose details can be seen on the [Stan documentation](https://mc-stan.org/users/documentation/case-studies/divergences_and_bias.html), [PyMC documentation](https://www.pymc.io/projects/examples/en/latest/diagnostics_and_criticism/Diagnosing_biased_Inference_with_Divergences.html), [TFP documentation](https://www.tensorflow.org/probability/examples/Eight_Schools), [numpyro documentation](https://num.pyro.ai/en/stable/getting_started.html#a-simple-example-8-schools), among others.\n",
     "\n",
     "Note that the sections after \"Defining bayeux model\" are the same no matter how the model was defined.\n",
     "\n",
     "¹ _Rubin, Donald B. 1981. “Estimation in Parallel Randomized Experiments.” Journal of Educational and Behavioral Statistics 6 (4): 377–401._"
    ]
   },
   {
    "cell_type": "code",
    "execution_count": 2,
    "metadata": {
     "id": "ZJ-OOHtc-_x3"
    },
    "outputs": [],
    "source": [
     "num_schools = 8\n",
     "treatment_effects = np.array([28, 8, -3, 7, -1, 1, 18, 12], dtype=np.float32)\n",
     "treatment_stddevs = np.array([15, 10, 16, 11, 9, 11, 10, 18], dtype=np.float32)"
    ]
   },
   {
    "cell_type": "code",
    "execution_count": 3,
    "metadata": {
     "id": "EiEtvl1zokAG"
    },
    "outputs": [],
    "source": [
     "@tfd.JointDistributionCoroutineAutoBatched\n",
     "def tfp_model():\n",
     "  avg_effect = yield tfd.Normal(0., 10., name='avg_effect')\n",
     "  avg_stddev = yield tfd.HalfNormal(10., name='avg_stddev')\n",
     "  school_effects = yield tfd.Sample(\n",
     "      tfd.Normal(0., 1.), sample_shape=8, name='school_effects')\n",
     "\n",
     "  yield tfd.Normal(loc=avg_effect + avg_stddev * school_effects,\n",
     "                   scale=treatment_stddevs, name='observed')\n",
     "\n",
     "pinned_model = tfp_model.experimental_pin(observed=treatment_effects)"
    ]
   },
   {
    "cell_type": "code",
    "execution_count": 4,
    "metadata": {
     "id": "xa_WV_is-Ow1"
    },
    "outputs": [],
    "source": [
     "test_point = pinned_model.sample_unpinned(seed=jax.random.PRNGKey(0))\n",
     "# seed doesn't matter, can also use\n",
     "# test_point = jax.tree_map(jnp.ones, pinned_model.event_shape)\n",
     "\n",
     "transform_fn = pinned_model.experimental_default_event_space_bijector()\n",
     "\n",
     "bx_model = bx.Model(\n",
     "    log_density=pinned_model.log_prob,\n",
     "    test_point=test_point,\n",
     "    transform_fn=transform_fn\n",
     ")"
    ]
   },
   {
    "cell_type": "code",
    "execution_count": 5,
    "metadata": {
     "colab": {
      "base_uri": "https://localhost:8080/",
      "height": 418
     },
     "id": "74Obwj695nDl",
     "outputId": "6a61b313-a78d-4eb1-c667-d91c496faa90"
    },
    "outputs": [
     {
      "data": {
       "text/html": [
        "<div>\n",
        "<style scoped>\n",
        "    .dataframe tbody tr th:only-of-type {\n",
        "        vertical-align: middle;\n",
        "    }\n",
        "\n",
        "    .dataframe tbody tr th {\n",
        "        vertical-align: top;\n",
        "    }\n",
        "\n",
        "    .dataframe thead th {\n",
        "        text-align: right;\n",
        "    }\n",
        "</style>\n",
        "<table border=\"1\" class=\"dataframe\">\n",
        "  <thead>\n",
        "    <tr style=\"text-align: right;\">\n",
        "      <th></th>\n",
        "      <th>mean</th>\n",
        "      <th>sd</th>\n",
        "      <th>hdi_3%</th>\n",
        "      <th>hdi_97%</th>\n",
        "      <th>mcse_mean</th>\n",
        "      <th>mcse_sd</th>\n",
        "      <th>ess_bulk</th>\n",
        "      <th>ess_tail</th>\n",
        "      <th>r_hat</th>\n",
        "    </tr>\n",
        "  </thead>\n",
        "  <tbody>\n",
        "    <tr>\n",
        "      <th>avg_effect</th>\n",
        "      <td>6.558</td>\n",
        "      <td>4.070</td>\n",
        "      <td>-1.158</td>\n",
        "      <td>14.122</td>\n",
        "      <td>0.059</td>\n",
        "      <td>0.046</td>\n",
        "      <td>4812.0</td>\n",
        "      <td>2944.0</td>\n",
        "      <td>1.0</td>\n",
        "    </tr>\n",
        "    <tr>\n",
        "      <th>avg_stddev</th>\n",
        "      <td>4.644</td>\n",
        "      <td>3.564</td>\n",
        "      <td>0.000</td>\n",
        "      <td>10.954</td>\n",
        "      <td>0.068</td>\n",
        "      <td>0.053</td>\n",
        "      <td>3386.0</td>\n",
        "      <td>2388.0</td>\n",
        "      <td>1.0</td>\n",
        "    </tr>\n",
        "    <tr>\n",
        "      <th>school_effects[0]</th>\n",
        "      <td>0.343</td>\n",
        "      <td>0.970</td>\n",
        "      <td>-1.393</td>\n",
        "      <td>2.224</td>\n",
        "      <td>0.014</td>\n",
        "      <td>0.015</td>\n",
        "      <td>5158.0</td>\n",
        "      <td>2817.0</td>\n",
        "      <td>1.0</td>\n",
        "    </tr>\n",
        "    <tr>\n",
        "      <th>school_effects[1]</th>\n",
        "      <td>0.053</td>\n",
        "      <td>0.925</td>\n",
        "      <td>-1.660</td>\n",
        "      <td>1.749</td>\n",
        "      <td>0.011</td>\n",
        "      <td>0.015</td>\n",
        "      <td>6473.0</td>\n",
        "      <td>3184.0</td>\n",
        "      <td>1.0</td>\n",
        "    </tr>\n",
        "    <tr>\n",
        "      <th>school_effects[2]</th>\n",
        "      <td>-0.139</td>\n",
        "      <td>0.946</td>\n",
        "      <td>-1.907</td>\n",
        "      <td>1.632</td>\n",
        "      <td>0.012</td>\n",
        "      <td>0.015</td>\n",
        "      <td>6105.0</td>\n",
        "      <td>3194.0</td>\n",
        "      <td>1.0</td>\n",
        "    </tr>\n",
        "    <tr>\n",
        "      <th>school_effects[3]</th>\n",
        "      <td>-0.002</td>\n",
        "      <td>0.916</td>\n",
        "      <td>-1.830</td>\n",
        "      <td>1.585</td>\n",
        "      <td>0.012</td>\n",
        "      <td>0.015</td>\n",
        "      <td>6197.0</td>\n",
        "      <td>3045.0</td>\n",
        "      <td>1.0</td>\n",
        "    </tr>\n",
        "    <tr>\n",
        "      <th>school_effects[4]</th>\n",
        "      <td>-0.269</td>\n",
        "      <td>0.914</td>\n",
        "      <td>-1.971</td>\n",
        "      <td>1.443</td>\n",
        "      <td>0.013</td>\n",
        "      <td>0.014</td>\n",
        "      <td>5177.0</td>\n",
        "      <td>3118.0</td>\n",
        "      <td>1.0</td>\n",
        "    </tr>\n",
        "    <tr>\n",
        "      <th>school_effects[5]</th>\n",
        "      <td>-0.144</td>\n",
        "      <td>0.934</td>\n",
        "      <td>-1.879</td>\n",
        "      <td>1.627</td>\n",
        "      <td>0.012</td>\n",
        "      <td>0.016</td>\n",
        "      <td>6209.0</td>\n",
        "      <td>3034.0</td>\n",
        "      <td>1.0</td>\n",
        "    </tr>\n",
        "    <tr>\n",
        "      <th>school_effects[6]</th>\n",
        "      <td>0.330</td>\n",
        "      <td>0.940</td>\n",
        "      <td>-1.615</td>\n",
        "      <td>1.951</td>\n",
        "      <td>0.014</td>\n",
        "      <td>0.014</td>\n",
        "      <td>4549.0</td>\n",
        "      <td>2771.0</td>\n",
        "      <td>1.0</td>\n",
        "    </tr>\n",
        "    <tr>\n",
        "      <th>school_effects[7]</th>\n",
        "      <td>0.051</td>\n",
        "      <td>0.971</td>\n",
        "      <td>-1.900</td>\n",
        "      <td>1.758</td>\n",
        "      <td>0.012</td>\n",
        "      <td>0.016</td>\n",
        "      <td>6736.0</td>\n",
        "      <td>2966.0</td>\n",
        "      <td>1.0</td>\n",
        "    </tr>\n",
        "  </tbody>\n",
        "</table>\n",
        "</div>"
       ],
       "text/plain": [
        "                    mean     sd  hdi_3%  hdi_97%  mcse_mean  mcse_sd  \\\n",
        "avg_effect         6.558  4.070  -1.158   14.122      0.059    0.046   \n",
        "avg_stddev         4.644  3.564   0.000   10.954      0.068    0.053   \n",
        "school_effects[0]  0.343  0.970  -1.393    2.224      0.014    0.015   \n",
        "school_effects[1]  0.053  0.925  -1.660    1.749      0.011    0.015   \n",
        "school_effects[2] -0.139  0.946  -1.907    1.632      0.012    0.015   \n",
        "school_effects[3] -0.002  0.916  -1.830    1.585      0.012    0.015   \n",
        "school_effects[4] -0.269  0.914  -1.971    1.443      0.013    0.014   \n",
        "school_effects[5] -0.144  0.934  -1.879    1.627      0.012    0.016   \n",
        "school_effects[6]  0.330  0.940  -1.615    1.951      0.014    0.014   \n",
        "school_effects[7]  0.051  0.971  -1.900    1.758      0.012    0.016   \n",
        "\n",
        "                   ess_bulk  ess_tail  r_hat  \n",
        "avg_effect           4812.0    2944.0    1.0  \n",
        "avg_stddev           3386.0    2388.0    1.0  \n",
        "school_effects[0]    5158.0    2817.0    1.0  \n",
        "school_effects[1]    6473.0    3184.0    1.0  \n",
        "school_effects[2]    6105.0    3194.0    1.0  \n",
        "school_effects[3]    6197.0    3045.0    1.0  \n",
        "school_effects[4]    5177.0    3118.0    1.0  \n",
        "school_effects[5]    6209.0    3034.0    1.0  \n",
        "school_effects[6]    4549.0    2771.0    1.0  \n",
        "school_effects[7]    6736.0    2966.0    1.0  "
       ]
      },
      "execution_count": 5,
      "metadata": {},
      "output_type": "execute_result"
     }
    ],
    "source": [
     "idata = bx_model.mcmc.blackjax_nuts(seed=jax.random.PRNGKey(0))\n",
     "\n",
     "az.summary(idata)"
    ]
   },
   {
    "cell_type": "code",
    "execution_count": 6,
    "metadata": {
     "colab": {
      "base_uri": "https://localhost:8080/",
      "height": 596
     },
     "id": "u16VLPPn6gfc",
     "outputId": "a1fc39bf-1812-4925-bb38-4962da36e08a"
    },
    "outputs": [
     {
      "data": {
       "text/plain": [
        "StructTuple(\n",
        "  avg_effect=Array([6.170567 , 6.1705155, 6.170517 , 6.1705117, 6.170514 , 6.170519 ,\n",
        "           6.1705165, 6.1705165], dtype=float32),\n",
        "  avg_stddev=Array([10.6252775, 10.625166 , 10.625167 , 10.625158 , 10.625164 ,\n",
        "           10.625158 , 10.625162 , 10.625166 ], dtype=float32),\n",
        "  school_effects=Array([[ 0.68687516,  0.09130273, -0.26413926,  0.03767823, -0.3951956 ,\n",
        "            -0.2348853 ,  0.59038466,  0.14177081],\n",
        "           [ 0.68643355,  0.09130631, -0.26413608,  0.0376828 , -0.3929356 ,\n",
        "            -0.23488224,  0.59038836,  0.14177175],\n",
        "           [ 0.68643355,  0.09130623, -0.2641361 ,  0.03768104, -0.39293566,\n",
        "            -0.23488232,  0.5903883 ,  0.1417717 ],\n",
        "           [ 0.68643355,  0.09130645, -0.2644407 ,  0.03768132, -0.39293548,\n",
        "            -0.23488216,  0.5903885 ,  0.14177178],\n",
        "           [ 0.68643355,  0.0913064 , -0.26413602,  0.03768126, -0.39293554,\n",
        "            -0.23488219,  0.5903884 ,  0.14177176],\n",
        "           [ 0.6864333 ,  0.09130613, -0.26413608,  0.03768104, -0.39293587,\n",
        "            -0.2348824 ,  0.5903882 ,  0.1417716 ],\n",
        "           [ 0.6864335 ,  0.09130628, -0.26413605,  0.03768114, -0.3929357 ,\n",
        "            -0.2348823 ,  0.59038836,  0.14177169],\n",
        "           [ 0.68643355,  0.09130625, -0.26413608,  0.03768114, -0.3929357 ,\n",
        "            -0.23488231,  0.5903883 ,  0.14177172]], dtype=float32)\n",
        ")"
       ]
      },
      "execution_count": 6,
      "metadata": {},
      "output_type": "execute_result"
     },
     {
      "data": {
       "image/png": "[encoded data removed]",
       "text/plain": [
        "<Figure size 1200x200 with 1 Axes>"
       ]
      },
      "metadata": {},
      "output_type": "display_data"
     }
    ],
    "source": [
     "opt_results = bx_model.optimize.optax_adam(seed=jax.random.PRNGKey(0))\n",
     "\n",
     "\n",
     "fig, ax = plt.subplots(figsize=(12, 2))\n",
     "ax.plot(opt_results.loss.T)\n",
     "opt_results.params"
    ]
   },
   {
    "cell_type": "code",
    "execution_count": 7,
    "metadata": {
     "colab": {
      "base_uri": "https://localhost:8080/",
      "height": 318
     },
     "id": "yaPUpfDH6-yd",
     "outputId": "d55a195e-7972-43e2-850d-8d27de33dfb4"
    },
    "outputs": [
     {
      "data": {
       "text/plain": [
        "StructTuple(\n",
        "  avg_effect=Array(6.546407, dtype=float32),\n",
        "  avg_stddev=Array(3.8073668, dtype=float32),\n",
        "  school_effects=Array([ 0.3435079 ,  0.06276067, -0.13118589,  0.04159814, -0.29985726,\n",
        "           -0.10515903,  0.39394206,  0.03527481], dtype=float32)\n",
        ")"
       ]
      },
      "execution_count": 7,
      "metadata": {},
      "output_type": "execute_result"
     },
     {
      "data": {
       "image/png": "[encoded data removed]",
       "text/plain": [
        "<Figure size 1200x200 with 1 Axes>"
       ]
      },
      "metadata": {},
      "output_type": "display_data"
     }
    ],
    "source": [
     "surrogate_posterior, losses = bx_model.vi.tfp_factored_surrogate_posterior(\n",
     "    seed=jax.random.PRNGKey(0))\n",
     "\n",
     "\n",
     "fig, ax = plt.subplots(figsize=(12, 2))\n",
     "ax.plot(losses.T)\n",
     "\n",
     "draws = surrogate_posterior.sample(100, seed=jax.random.PRNGKey(1))\n",
     "jax.tree_map(lambda x: jnp.mean(x, axis=(0, 1)), draws)"
    ]
   }
  ],
  "metadata": {
   "colab": {
    "provenance": [],
    "toc_visible": true
   },
   "jupytext": {
    "formats": "ipynb,md:myst"
   },
   "kernelspec": {
    "display_name": "Python 3 (ipykernel)",
    "language": "python",
    "name": "python3"
   },
   "language_info": {
    "codemirror_mode": {
     "name": "ipython",
     "version": 3
    },
    "file_extension": ".py",
    "mimetype": "text/x-python",
    "name": "python",
    "nbconvert_exporter": "python",
    "pygments_lexer": "ipython3",
    "version": "3.10.13"
   }
  },
  "nbformat": 4,
  "nbformat_minor": 4
 }
